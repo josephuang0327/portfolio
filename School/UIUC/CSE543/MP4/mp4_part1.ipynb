{
 "cells": [
  {
   "cell_type": "markdown",
   "metadata": {},
   "source": [
    "# Part 3: Single-View Geometry\n",
    "\n",
    "## Usage\n",
    "This code snippet provides an overall code structure and some interactive plot interfaces for the *Single-View Geometry* section of Assignment 3. In [main function](#Main-function), we outline the required functionalities step by step. Some of the functions which involves interactive plots are already provided, but [the rest](#Your-implementation) are left for you to implement.\n",
    "\n",
    "## Package installation\n",
    "- In this code, we use `tkinter` package. Installation instruction can be found [here](https://anaconda.org/anaconda/tk)."
   ]
  },
  {
   "cell_type": "markdown",
   "metadata": {},
   "source": [
    "# Common imports"
   ]
  },
  {
   "cell_type": "code",
   "execution_count": 10,
   "metadata": {},
   "outputs": [],
   "source": [
    "%matplotlib tk\n",
    "import matplotlib.pyplot as plt\n",
    "import numpy as np\n",
    "import os\n",
    "import cv2\n",
    "import math\n",
    "from PIL import Image"
   ]
  },
  {
   "cell_type": "markdown",
   "metadata": {},
   "source": [
    "# Provided functions"
   ]
  },
  {
   "cell_type": "code",
   "execution_count": 5,
   "metadata": {},
   "outputs": [],
   "source": [
    "def get_input_lines(im, min_lines=3):\n",
    "    \"\"\"\n",
    "    Allows user to input line segments; computes centers and directions.\n",
    "    Inputs:\n",
    "        im: np.ndarray of shape (height, width, 3)\n",
    "        min_lines: minimum number of lines required\n",
    "    Returns:\n",
    "        n: number of lines from input\n",
    "        lines: np.ndarray of shape (3, n)\n",
    "            where each column denotes the parameters of the line equation\n",
    "        centers: np.ndarray of shape (3, n)\n",
    "            where each column denotes the homogeneous coordinates of the centers\n",
    "    \"\"\"\n",
    "    n = 0\n",
    "    lines = np.zeros((3, 0))\n",
    "    centers = np.zeros((3, 0))\n",
    "\n",
    "    plt.figure()\n",
    "    plt.imshow(im)\n",
    "    plt.show()\n",
    "    print('Set at least %d lines to compute vanishing point' % min_lines)\n",
    "    while True:\n",
    "        print('Click the two endpoints, use the right key to undo, and use the middle key to stop input')\n",
    "        clicked = plt.ginput(2, timeout=0, show_clicks=True)\n",
    "        if not clicked or len(clicked) < 2:\n",
    "            if n < min_lines:\n",
    "                print('Need at least %d lines, you have %d now' % (min_lines, n))\n",
    "                continue\n",
    "            else:\n",
    "                # Stop getting lines if number of lines is enough\n",
    "                break\n",
    "\n",
    "        # Unpack user inputs and save as homogeneous coordinates\n",
    "        pt1 = np.array([clicked[0][0], clicked[0][1], 1])\n",
    "        pt2 = np.array([clicked[1][0], clicked[1][1], 1])\n",
    "        # Get line equation using cross product\n",
    "        # Line equation: line[0] * x + line[1] * y + line[2] = 0\n",
    "        line = np.cross(pt1, pt2)\n",
    "        lines = np.append(lines, line.reshape((3, 1)), axis=1)\n",
    "        # Get center coordinate of the line segment\n",
    "        center = (pt1 + pt2) / 2\n",
    "        centers = np.append(centers, center.reshape((3, 1)), axis=1)\n",
    "\n",
    "        # Plot line segment\n",
    "        plt.plot([pt1[0], pt2[0]], [pt1[1], pt2[1]], color='b')\n",
    "\n",
    "        n += 1\n",
    "\n",
    "    return n, lines, centers"
   ]
  },
  {
   "cell_type": "code",
   "execution_count": 6,
   "metadata": {},
   "outputs": [],
   "source": [
    "def plot_lines_and_vp(im, lines, vp):\n",
    "    \"\"\"\n",
    "    Plots user-input lines and the calculated vanishing point.\n",
    "    Inputs:\n",
    "        im: np.ndarray of shape (height, width, 3)\n",
    "        lines: np.ndarray of shape (3, n)\n",
    "            where each column denotes the parameters of the line equation\n",
    "        vp: np.ndarray of shape (3, )\n",
    "    \"\"\"\n",
    "    bx1 = min(1, vp[0] / vp[2]) - 10\n",
    "    bx2 = max(im.shape[1], vp[0] / vp[2]) + 10\n",
    "    by1 = min(1, vp[1] / vp[2]) - 10\n",
    "    by2 = max(im.shape[0], vp[1] / vp[2]) + 10\n",
    "\n",
    "    plt.figure()\n",
    "    plt.imshow(im)\n",
    "    for i in range(lines.shape[1]):\n",
    "        if lines[0, i] < lines[1, i]:\n",
    "            pt1 = np.cross(np.array([1, 0, -bx1]), lines[:, i])\n",
    "            pt2 = np.cross(np.array([1, 0, -bx2]), lines[:, i])\n",
    "        else:\n",
    "            pt1 = np.cross(np.array([0, 1, -by1]), lines[:, i])\n",
    "            pt2 = np.cross(np.array([0, 1, -by2]), lines[:, i])\n",
    "        pt1 = pt1 / pt1[2]\n",
    "        pt2 = pt2 / pt2[2]\n",
    "        plt.plot([pt1[0], pt2[0]], [pt1[1], pt2[1]], 'g')\n",
    "\n",
    "    plt.plot(vp[0] / vp[2], vp[1] / vp[2], 'ro')\n",
    "    plt.show()"
   ]
  },
  {
   "cell_type": "code",
   "execution_count": 7,
   "metadata": {},
   "outputs": [],
   "source": [
    "def get_top_and_bottom_coordinates(im, obj):\n",
    "    \"\"\"\n",
    "    For a specific object, prompts user to record the top coordinate and the bottom coordinate in the image.\n",
    "    Inputs:\n",
    "        im: np.ndarray of shape (height, width, 3)\n",
    "        obj: string, object name\n",
    "    Returns:\n",
    "        coord: np.ndarray of shape (3, 2)\n",
    "            where coord[:, 0] is the homogeneous coordinate of the top of the object and coord[:, 1] is the homogeneous\n",
    "            coordinate of the bottom\n",
    "    \"\"\"\n",
    "    plt.figure()\n",
    "    plt.imshow(im)\n",
    "\n",
    "    print('Click on the top coordinate of %s' % obj)\n",
    "    clicked = plt.ginput(1, timeout=0, show_clicks=True)\n",
    "    x1, y1 = clicked[0]\n",
    "    # Uncomment this line to enable a vertical line to help align the two coordinates\n",
    "    # plt.plot([x1, x1], [0, im.shape[0]], 'b')\n",
    "    print('Click on the bottom coordinate of %s' % obj)\n",
    "    clicked = plt.ginput(1, timeout=0, show_clicks=True)\n",
    "    x2, y2 = clicked[0]\n",
    "\n",
    "    plt.plot([x1, x2], [y1, y2], 'b')\n",
    "\n",
    "    return np.array([[x1, x2], [y1, y2], [1, 1]])"
   ]
  },
  {
   "cell_type": "markdown",
   "metadata": {},
   "source": [
    "# Your implementation"
   ]
  },
  {
   "cell_type": "code",
   "execution_count": 14,
   "metadata": {},
   "outputs": [],
   "source": [
    "def get_vanishing_point(lines):\n",
    "    \"\"\"\n",
    "    Solves for the vanishing point using the user-input lines.\n",
    "    \"\"\"\n",
    "    # <YOUR IMPLEMENTATION>\n",
    "    print(lines)\n",
    "\n",
    "    return"
   ]
  },
  {
   "cell_type": "code",
   "execution_count": null,
   "metadata": {},
   "outputs": [],
   "source": [
    "def get_horizon_line():\n",
    "    \"\"\"\n",
    "    Calculates the ground horizon line.\n",
    "    \"\"\"\n",
    "    # <YOUR IMPLEMENTATION>\n",
    "    pass"
   ]
  },
  {
   "cell_type": "code",
   "execution_count": null,
   "metadata": {},
   "outputs": [],
   "source": [
    "def plot_horizon_line():\n",
    "    \"\"\"\n",
    "    Plots the horizon line.\n",
    "    \"\"\"\n",
    "    # <YOUR IMPLEMENTATION>\n",
    "    pass"
   ]
  },
  {
   "cell_type": "code",
   "execution_count": null,
   "metadata": {},
   "outputs": [],
   "source": [
    "def get_camera_parameters():\n",
    "    \"\"\"\n",
    "    Computes the camera parameters. Hint: The SymPy package is suitable for this.\n",
    "    \"\"\"\n",
    "    # <YOUR IMPLEMENTATION>\n",
    "    pass"
   ]
  },
  {
   "cell_type": "code",
   "execution_count": null,
   "metadata": {},
   "outputs": [],
   "source": [
    "def get_rotation_matrix():\n",
    "    \"\"\"\n",
    "    Computes the rotation matrix using the camera parameters.\n",
    "    \"\"\"\n",
    "    # <YOUR IMPLEMENTATION>\n",
    "    return R"
   ]
  },
  {
   "cell_type": "code",
   "execution_count": null,
   "metadata": {},
   "outputs": [],
   "source": [
    "def estimate_height():\n",
    "    \"\"\"\n",
    "    Estimates height for a specific object using the recorded coordinates. You might need to plot additional images here for\n",
    "    your report.\n",
    "    \"\"\"\n",
    "    # <YOUR IMPLEMENTATION>\n",
    "    pass"
   ]
  },
  {
   "cell_type": "markdown",
   "metadata": {},
   "source": [
    "# Main function"
   ]
  },
  {
   "cell_type": "code",
   "execution_count": 16,
   "metadata": {},
   "outputs": [
    {
     "name": "stdout",
     "output_type": "stream",
     "text": [
      "Getting vanishing point 0\n",
      "Set at least 3 lines to compute vanishing point\n",
      "Click the two endpoints, use the right key to undo, and use the middle key to stop input\n",
      "Click the two endpoints, use the right key to undo, and use the middle key to stop input\n",
      "Need at least 3 lines, you have 1 now\n",
      "Click the two endpoints, use the right key to undo, and use the middle key to stop input\n",
      "Click the two endpoints, use the right key to undo, and use the middle key to stop input\n",
      "Click the two endpoints, use the right key to undo, and use the middle key to stop input\n",
      "[[ 1.23870968e+01 -1.36258065e+02 -1.65161290e+01]\n",
      " [ 4.93419355e+02 -1.23870968e+01  2.08516129e+02]\n",
      " [-1.00127341e+05  1.18061779e+05 -3.26308362e+04]]\n",
      "Getting vanishing point 1\n",
      "Set at least 3 lines to compute vanishing point\n",
      "Click the two endpoints, use the right key to undo, and use the middle key to stop input\n",
      "Click the two endpoints, use the right key to undo, and use the middle key to stop input\n",
      "Click the two endpoints, use the right key to undo, and use the middle key to stop input\n",
      "Click the two endpoints, use the right key to undo, and use the middle key to stop input\n",
      "[[-9.70322581e+01 -4.12903226e+00 -1.05290323e+02]\n",
      " [ 8.25806452e+00  1.85806452e+02 -1.44516129e+01]\n",
      " [ 5.03863076e+04 -2.99870968e+04  8.71857349e+04]]\n",
      "Getting vanishing point 2\n",
      "Set at least 3 lines to compute vanishing point\n",
      "Click the two endpoints, use the right key to undo, and use the middle key to stop input\n"
     ]
    },
    {
     "ename": "KeyboardInterrupt",
     "evalue": "",
     "output_type": "error",
     "traceback": [
      "\u001b[1;31m---------------------------------------------------------------------------\u001b[0m",
      "\u001b[1;31mKeyboardInterrupt\u001b[0m                         Traceback (most recent call last)",
      "Cell \u001b[1;32mIn [16], line 10\u001b[0m\n\u001b[0;32m      8\u001b[0m \u001b[39mprint\u001b[39m(\u001b[39m'\u001b[39m\u001b[39mGetting vanishing point \u001b[39m\u001b[39m%d\u001b[39;00m\u001b[39m'\u001b[39m \u001b[39m%\u001b[39m i)\n\u001b[0;32m      9\u001b[0m \u001b[39m# Get at least three lines from user input\u001b[39;00m\n\u001b[1;32m---> 10\u001b[0m n, lines, centers \u001b[39m=\u001b[39m get_input_lines(im)\n\u001b[0;32m     11\u001b[0m \u001b[39m# <YOUR IMPLEMENTATION> Solve for vanishing point\u001b[39;00m\n\u001b[0;32m     12\u001b[0m vpts[:, i] \u001b[39m=\u001b[39m get_vanishing_point(lines)\n",
      "Cell \u001b[1;32mIn [5], line 24\u001b[0m, in \u001b[0;36mget_input_lines\u001b[1;34m(im, min_lines)\u001b[0m\n\u001b[0;32m     22\u001b[0m \u001b[39mwhile\u001b[39;00m \u001b[39mTrue\u001b[39;00m:\n\u001b[0;32m     23\u001b[0m     \u001b[39mprint\u001b[39m(\u001b[39m'\u001b[39m\u001b[39mClick the two endpoints, use the right key to undo, and use the middle key to stop input\u001b[39m\u001b[39m'\u001b[39m)\n\u001b[1;32m---> 24\u001b[0m     clicked \u001b[39m=\u001b[39m plt\u001b[39m.\u001b[39;49mginput(\u001b[39m2\u001b[39;49m, timeout\u001b[39m=\u001b[39;49m\u001b[39m0\u001b[39;49m, show_clicks\u001b[39m=\u001b[39;49m\u001b[39mTrue\u001b[39;49;00m)\n\u001b[0;32m     25\u001b[0m     \u001b[39mif\u001b[39;00m \u001b[39mnot\u001b[39;00m clicked \u001b[39mor\u001b[39;00m \u001b[39mlen\u001b[39m(clicked) \u001b[39m<\u001b[39m \u001b[39m2\u001b[39m:\n\u001b[0;32m     26\u001b[0m         \u001b[39mif\u001b[39;00m n \u001b[39m<\u001b[39m min_lines:\n",
      "File \u001b[1;32mc:\\Users\\josep\\AppData\\Local\\Programs\\Python\\Python310\\lib\\site-packages\\matplotlib\\pyplot.py:2240\u001b[0m, in \u001b[0;36mginput\u001b[1;34m(n, timeout, show_clicks, mouse_add, mouse_pop, mouse_stop)\u001b[0m\n\u001b[0;32m   2235\u001b[0m \u001b[39m@_copy_docstring_and_deprecators\u001b[39m(Figure\u001b[39m.\u001b[39mginput)\n\u001b[0;32m   2236\u001b[0m \u001b[39mdef\u001b[39;00m \u001b[39mginput\u001b[39m(\n\u001b[0;32m   2237\u001b[0m         n\u001b[39m=\u001b[39m\u001b[39m1\u001b[39m, timeout\u001b[39m=\u001b[39m\u001b[39m30\u001b[39m, show_clicks\u001b[39m=\u001b[39m\u001b[39mTrue\u001b[39;00m,\n\u001b[0;32m   2238\u001b[0m         mouse_add\u001b[39m=\u001b[39mMouseButton\u001b[39m.\u001b[39mLEFT, mouse_pop\u001b[39m=\u001b[39mMouseButton\u001b[39m.\u001b[39mRIGHT,\n\u001b[0;32m   2239\u001b[0m         mouse_stop\u001b[39m=\u001b[39mMouseButton\u001b[39m.\u001b[39mMIDDLE):\n\u001b[1;32m-> 2240\u001b[0m     \u001b[39mreturn\u001b[39;00m gcf()\u001b[39m.\u001b[39;49mginput(\n\u001b[0;32m   2241\u001b[0m         n\u001b[39m=\u001b[39;49mn, timeout\u001b[39m=\u001b[39;49mtimeout, show_clicks\u001b[39m=\u001b[39;49mshow_clicks,\n\u001b[0;32m   2242\u001b[0m         mouse_add\u001b[39m=\u001b[39;49mmouse_add, mouse_pop\u001b[39m=\u001b[39;49mmouse_pop,\n\u001b[0;32m   2243\u001b[0m         mouse_stop\u001b[39m=\u001b[39;49mmouse_stop)\n",
      "File \u001b[1;32mc:\\Users\\josep\\AppData\\Local\\Programs\\Python\\Python310\\lib\\site-packages\\matplotlib\\figure.py:3360\u001b[0m, in \u001b[0;36mFigure.ginput\u001b[1;34m(self, n, timeout, show_clicks, mouse_add, mouse_pop, mouse_stop)\u001b[0m\n\u001b[0;32m   3357\u001b[0m     \u001b[39mif\u001b[39;00m \u001b[39mlen\u001b[39m(clicks) \u001b[39m==\u001b[39m n \u001b[39mand\u001b[39;00m n \u001b[39m>\u001b[39m \u001b[39m0\u001b[39m:\n\u001b[0;32m   3358\u001b[0m         \u001b[39mself\u001b[39m\u001b[39m.\u001b[39mcanvas\u001b[39m.\u001b[39mstop_event_loop()\n\u001b[1;32m-> 3360\u001b[0m _blocking_input\u001b[39m.\u001b[39;49mblocking_input_loop(\n\u001b[0;32m   3361\u001b[0m     \u001b[39mself\u001b[39;49m, [\u001b[39m\"\u001b[39;49m\u001b[39mbutton_press_event\u001b[39;49m\u001b[39m\"\u001b[39;49m, \u001b[39m\"\u001b[39;49m\u001b[39mkey_press_event\u001b[39;49m\u001b[39m\"\u001b[39;49m], timeout, handler)\n\u001b[0;32m   3363\u001b[0m \u001b[39m# Cleanup.\u001b[39;00m\n\u001b[0;32m   3364\u001b[0m \u001b[39mfor\u001b[39;00m mark \u001b[39min\u001b[39;00m marks:\n",
      "File \u001b[1;32mc:\\Users\\josep\\AppData\\Local\\Programs\\Python\\Python310\\lib\\site-packages\\matplotlib\\_blocking_input.py:26\u001b[0m, in \u001b[0;36mblocking_input_loop\u001b[1;34m(figure, event_names, timeout, handler)\u001b[0m\n\u001b[0;32m     24\u001b[0m cids \u001b[39m=\u001b[39m [figure\u001b[39m.\u001b[39mcanvas\u001b[39m.\u001b[39mmpl_connect(name, handler) \u001b[39mfor\u001b[39;00m name \u001b[39min\u001b[39;00m event_names]\n\u001b[0;32m     25\u001b[0m \u001b[39mtry\u001b[39;00m:\n\u001b[1;32m---> 26\u001b[0m     figure\u001b[39m.\u001b[39;49mcanvas\u001b[39m.\u001b[39;49mstart_event_loop(timeout)  \u001b[39m# Start event loop.\u001b[39;00m\n\u001b[0;32m     27\u001b[0m \u001b[39mfinally\u001b[39;00m:  \u001b[39m# Run even on exception like ctrl-c.\u001b[39;00m\n\u001b[0;32m     28\u001b[0m     \u001b[39m# Disconnect the callbacks.\u001b[39;00m\n\u001b[0;32m     29\u001b[0m     \u001b[39mfor\u001b[39;00m cid \u001b[39min\u001b[39;00m cids:\n",
      "File \u001b[1;32mc:\\Users\\josep\\AppData\\Local\\Programs\\Python\\Python310\\lib\\site-packages\\matplotlib\\backends\\_backend_tk.py:399\u001b[0m, in \u001b[0;36mFigureCanvasTk.start_event_loop\u001b[1;34m(self, timeout)\u001b[0m\n\u001b[0;32m    396\u001b[0m     \u001b[39melse\u001b[39;00m:\n\u001b[0;32m    397\u001b[0m         \u001b[39mself\u001b[39m\u001b[39m.\u001b[39m_event_loop_id \u001b[39m=\u001b[39m \u001b[39mself\u001b[39m\u001b[39m.\u001b[39m_tkcanvas\u001b[39m.\u001b[39mafter_idle(\n\u001b[0;32m    398\u001b[0m             \u001b[39mself\u001b[39m\u001b[39m.\u001b[39mstop_event_loop)\n\u001b[1;32m--> 399\u001b[0m \u001b[39mself\u001b[39;49m\u001b[39m.\u001b[39;49m_tkcanvas\u001b[39m.\u001b[39;49mmainloop()\n",
      "File \u001b[1;32mc:\\Users\\josep\\AppData\\Local\\Programs\\Python\\Python310\\lib\\tkinter\\__init__.py:1458\u001b[0m, in \u001b[0;36mMisc.mainloop\u001b[1;34m(self, n)\u001b[0m\n\u001b[0;32m   1456\u001b[0m \u001b[39mdef\u001b[39;00m \u001b[39mmainloop\u001b[39m(\u001b[39mself\u001b[39m, n\u001b[39m=\u001b[39m\u001b[39m0\u001b[39m):\n\u001b[0;32m   1457\u001b[0m     \u001b[39m\"\"\"Call the mainloop of Tk.\"\"\"\u001b[39;00m\n\u001b[1;32m-> 1458\u001b[0m     \u001b[39mself\u001b[39;49m\u001b[39m.\u001b[39;49mtk\u001b[39m.\u001b[39;49mmainloop(n)\n",
      "\u001b[1;31mKeyboardInterrupt\u001b[0m: "
     ]
    }
   ],
   "source": [
    "im = np.asarray(Image.open('CSL.jpg'))\n",
    "\n",
    "# Part 1\n",
    "# Get vanishing points for each of the directions\n",
    "num_vpts = 3\n",
    "vpts = np.zeros((3, num_vpts))\n",
    "for i in range(num_vpts):\n",
    "    print('Getting vanishing point %d' % i)\n",
    "    # Get at least three lines from user input\n",
    "    n, lines, centers = get_input_lines(im)\n",
    "    # <YOUR IMPLEMENTATION> Solve for vanishing point\n",
    "    vpts[:, i] = get_vanishing_point(lines)\n",
    "    # Plot the lines and the vanishing point\n",
    "    plot_lines_and_vp(im, lines, vpts[:, i])\n",
    "\n",
    "# <YOUR IMPLEMENTATION> Get the ground horizon line\n",
    "horizon_line = get_horizon_line()\n",
    "# <YOUR IMPLEMENTATION> Plot the ground horizon line\n",
    "plot_horizon_line()\n",
    "\n",
    "# Part 2\n",
    "# <YOUR IMPLEMENTATION> Solve for the camera parameters (f, u, v)\n",
    "f, u, v = get_camera_parameters()\n",
    "\n",
    "# Part 3\n",
    "# <YOUR IMPLEMENTATION> Solve for the rotation matrix\n",
    "R = get_rotation_matrix()\n",
    "\n",
    "# Part 4\n",
    "# Record image coordinates for each object and store in map\n",
    "objects = ('person', 'CSL building', 'the spike statue', 'the lamp posts')\n",
    "coords = dict()\n",
    "for obj in objects:\n",
    "    coords[obj] = get_top_and_bottom_coordinates(im, obj)\n",
    "\n",
    "# <YOUR IMPLEMENTATION> Estimate heights\n",
    "for obj in objects[1:]:\n",
    "    print('Estimating height of %s' % obj)\n",
    "    height = estimate_height()\n"
   ]
  },
  {
   "cell_type": "code",
   "execution_count": null,
   "metadata": {},
   "outputs": [],
   "source": []
  }
 ],
 "metadata": {
  "kernelspec": {
   "display_name": "Python 3.10.7 64-bit",
   "language": "python",
   "name": "python3"
  },
  "language_info": {
   "codemirror_mode": {
    "name": "ipython",
    "version": 3
   },
   "file_extension": ".py",
   "mimetype": "text/x-python",
   "name": "python",
   "nbconvert_exporter": "python",
   "pygments_lexer": "ipython3",
   "version": "3.10.7"
  },
  "vscode": {
   "interpreter": {
    "hash": "93028d5495cf3fdad3791cfb45569ed1ffef5b94a8e8037ba1bdda77d837769f"
   }
  }
 },
 "nbformat": 4,
 "nbformat_minor": 2
}
